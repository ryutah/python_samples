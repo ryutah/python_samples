{
 "cells": [
  {
   "cell_type": "code",
   "execution_count": 6,
   "metadata": {},
   "outputs": [
    {
     "data": {
      "text/html": [
       "<div>\n",
       "<style>\n",
       "    .dataframe thead tr:only-child th {\n",
       "        text-align: right;\n",
       "    }\n",
       "\n",
       "    .dataframe thead th {\n",
       "        text-align: left;\n",
       "    }\n",
       "\n",
       "    .dataframe tbody tr th {\n",
       "        vertical-align: top;\n",
       "    }\n",
       "</style>\n",
       "<table border=\"1\" class=\"dataframe\">\n",
       "  <thead>\n",
       "    <tr style=\"text-align: right;\">\n",
       "      <th></th>\n",
       "      <th>年月日</th>\n",
       "      <th>Code</th>\n",
       "      <th>面積[平方キロメートル]</th>\n",
       "      <th>世帯数[世帯]</th>\n",
       "      <th>人口総数[人]</th>\n",
       "      <th>男[人]</th>\n",
       "      <th>女[人]</th>\n",
       "      <th>１世帯当たり人員[人]</th>\n",
       "      <th>人口密度[人/平方キロメートル]</th>\n",
       "      <th>届出による前月比増減の世帯数[世帯]</th>\n",
       "      <th>届出による前月比増減の人口[人]</th>\n",
       "    </tr>\n",
       "    <tr>\n",
       "      <th>市区名</th>\n",
       "      <th></th>\n",
       "      <th></th>\n",
       "      <th></th>\n",
       "      <th></th>\n",
       "      <th></th>\n",
       "      <th></th>\n",
       "      <th></th>\n",
       "      <th></th>\n",
       "      <th></th>\n",
       "      <th></th>\n",
       "      <th></th>\n",
       "    </tr>\n",
       "  </thead>\n",
       "  <tbody>\n",
       "    <tr>\n",
       "      <th>横浜市</th>\n",
       "      <td>2014-12-01</td>\n",
       "      <td>141003</td>\n",
       "      <td>435.21</td>\n",
       "      <td>1632759</td>\n",
       "      <td>3711631</td>\n",
       "      <td>1851182</td>\n",
       "      <td>1860449</td>\n",
       "      <td>2.27</td>\n",
       "      <td>8528</td>\n",
       "      <td>222</td>\n",
       "      <td>91</td>\n",
       "    </tr>\n",
       "    <tr>\n",
       "      <th>鶴見区</th>\n",
       "      <td>2014-12-01</td>\n",
       "      <td>141011</td>\n",
       "      <td>32.38</td>\n",
       "      <td>130652</td>\n",
       "      <td>281849</td>\n",
       "      <td>145903</td>\n",
       "      <td>135946</td>\n",
       "      <td>2.16</td>\n",
       "      <td>8704</td>\n",
       "      <td>39</td>\n",
       "      <td>127</td>\n",
       "    </tr>\n",
       "    <tr>\n",
       "      <th>神奈川区</th>\n",
       "      <td>2014-12-01</td>\n",
       "      <td>141020</td>\n",
       "      <td>23.59</td>\n",
       "      <td>117240</td>\n",
       "      <td>235880</td>\n",
       "      <td>119885</td>\n",
       "      <td>115995</td>\n",
       "      <td>2.01</td>\n",
       "      <td>9999</td>\n",
       "      <td>-22</td>\n",
       "      <td>-28</td>\n",
       "    </tr>\n",
       "  </tbody>\n",
       "</table>\n",
       "</div>"
      ],
      "text/plain": [
       "             年月日    Code  面積[平方キロメートル]  世帯数[世帯]  人口総数[人]     男[人]     女[人]  \\\n",
       "市区名                                                                          \n",
       "横浜市   2014-12-01  141003        435.21  1632759  3711631  1851182  1860449   \n",
       "鶴見区   2014-12-01  141011         32.38   130652   281849   145903   135946   \n",
       "神奈川区  2014-12-01  141020         23.59   117240   235880   119885   115995   \n",
       "\n",
       "      １世帯当たり人員[人]  人口密度[人/平方キロメートル]  届出による前月比増減の世帯数[世帯]  届出による前月比増減の人口[人]  \n",
       "市区名                                                                        \n",
       "横浜市          2.27              8528                 222                91  \n",
       "鶴見区          2.16              8704                  39               127  \n",
       "神奈川区         2.01              9999                 -22               -28  "
      ]
     },
     "execution_count": 6,
     "metadata": {},
     "output_type": "execute_result"
    }
   ],
   "source": [
    "%matplotlib inline\n",
    "import pandas\n",
    "\n",
    "open_data = \"http://www.city.yokohama.lg.jp/ex/stat/opendata/suikei01/e1yokohama1412.csv\"\n",
    "df = pandas.read_csv(open_data, index_col='市区名')\n",
    "df.rename(columns={\"全国地方公共団体コード\": \"Code\"}, inplace=True)\n",
    "\n",
    "df.head(3)"
   ]
  },
  {
   "cell_type": "code",
   "execution_count": 8,
   "metadata": {
    "collapsed": true
   },
   "outputs": [],
   "source": [
    "key_data = [\"人口総数[人]\", \"男[人]\", \"女[人]\"]\n",
    "pp = df[df.Code!=141003][key_data]"
   ]
  },
  {
   "cell_type": "code",
   "execution_count": 9,
   "metadata": {},
   "outputs": [
    {
     "data": {
      "text/html": [
       "<div>\n",
       "<style>\n",
       "    .dataframe thead tr:only-child th {\n",
       "        text-align: right;\n",
       "    }\n",
       "\n",
       "    .dataframe thead th {\n",
       "        text-align: left;\n",
       "    }\n",
       "\n",
       "    .dataframe tbody tr th {\n",
       "        vertical-align: top;\n",
       "    }\n",
       "</style>\n",
       "<table border=\"1\" class=\"dataframe\">\n",
       "  <thead>\n",
       "    <tr style=\"text-align: right;\">\n",
       "      <th></th>\n",
       "      <th>人口総数[人]</th>\n",
       "      <th>男[人]</th>\n",
       "      <th>女[人]</th>\n",
       "    </tr>\n",
       "    <tr>\n",
       "      <th>市区名</th>\n",
       "      <th></th>\n",
       "      <th></th>\n",
       "      <th></th>\n",
       "    </tr>\n",
       "  </thead>\n",
       "  <tbody>\n",
       "    <tr>\n",
       "      <th>鶴見区</th>\n",
       "      <td>281849</td>\n",
       "      <td>145903</td>\n",
       "      <td>135946</td>\n",
       "    </tr>\n",
       "    <tr>\n",
       "      <th>神奈川区</th>\n",
       "      <td>235880</td>\n",
       "      <td>119885</td>\n",
       "      <td>115995</td>\n",
       "    </tr>\n",
       "    <tr>\n",
       "      <th>西区</th>\n",
       "      <td>97776</td>\n",
       "      <td>49657</td>\n",
       "      <td>48119</td>\n",
       "    </tr>\n",
       "  </tbody>\n",
       "</table>\n",
       "</div>"
      ],
      "text/plain": [
       "      人口総数[人]    男[人]    女[人]\n",
       "市区名                          \n",
       "鶴見区    281849  145903  135946\n",
       "神奈川区   235880  119885  115995\n",
       "西区      97776   49657   48119"
      ]
     },
     "execution_count": 9,
     "metadata": {},
     "output_type": "execute_result"
    }
   ],
   "source": [
    "pp.head(3)"
   ]
  },
  {
   "cell_type": "code",
   "execution_count": 14,
   "metadata": {
    "scrolled": true
   },
   "outputs": [
    {
     "data": {
      "text/plain": [
       "<matplotlib.axes._subplots.AxesSubplot at 0x10e714940>"
      ]
     },
     "execution_count": 14,
     "metadata": {},
     "output_type": "execute_result"
    },
    {
     "data": {
      "image/png": "[encoded data removed]",
      "text/plain": [
       "<matplotlib.figure.Figure at 0x10e688f28>"
      ]
     },
     "metadata": {},
     "output_type": "display_data"
    }
   ],
   "source": [
    "from matplotlib import pyplot, rc\n",
    "\n",
    "font = {\"family\": \"Ricty\"}\n",
    "rc(\"font\", **font)\n",
    "\n",
    "pyplot.style.use(\"ggplot\")\n",
    "pp.plot(kind=\"bar\", figsize=(12, 6), y=[\"男[人]\", \"女[人]\"], fontsize=17)"
   ]
  },
  {
   "cell_type": "code",
   "execution_count": 13,
   "metadata": {},
   "outputs": [
    {
     "ename": "AttributeError",
     "evalue": "'DataFrame' object has no attribute 'sort'",
     "output_type": "error",
     "traceback": [
      "\u001b[0;31m---------------------------------------------------------------------------\u001b[0m",
      "\u001b[0;31mAttributeError\u001b[0m                            Traceback (most recent call last)",
      "\u001b[0;32m<ipython-input-13-21ea6a6b3dbc>\u001b[0m in \u001b[0;36m<module>\u001b[0;34m()\u001b[0m\n\u001b[0;32m----> 1\u001b[0;31m \u001b[0msorted_pp\u001b[0m \u001b[0;34m=\u001b[0m \u001b[0mpp\u001b[0m\u001b[0;34m.\u001b[0m\u001b[0msort\u001b[0m\u001b[0;34m(\u001b[0m\u001b[0mcolumns\u001b[0m\u001b[0;34m=\u001b[0m\u001b[0;34m\"人口総数[人]\"\u001b[0m\u001b[0;34m,\u001b[0m \u001b[0mascending\u001b[0m\u001b[0;34m=\u001b[0m\u001b[0;32mFalse\u001b[0m\u001b[0;34m)\u001b[0m\u001b[0;34m\u001b[0m\u001b[0m\n\u001b[0m",
      "\u001b[0;32m~/projects/github.com/ryutah/python_sample/lib/python3.6/site-packages/pandas/core/generic.py\u001b[0m in \u001b[0;36m__getattr__\u001b[0;34m(self, name)\u001b[0m\n\u001b[1;32m   3079\u001b[0m             \u001b[0;32mif\u001b[0m \u001b[0mname\u001b[0m \u001b[0;32min\u001b[0m \u001b[0mself\u001b[0m\u001b[0;34m.\u001b[0m\u001b[0m_info_axis\u001b[0m\u001b[0;34m:\u001b[0m\u001b[0;34m\u001b[0m\u001b[0m\n\u001b[1;32m   3080\u001b[0m                 \u001b[0;32mreturn\u001b[0m \u001b[0mself\u001b[0m\u001b[0;34m[\u001b[0m\u001b[0mname\u001b[0m\u001b[0;34m]\u001b[0m\u001b[0;34m\u001b[0m\u001b[0m\n\u001b[0;32m-> 3081\u001b[0;31m             \u001b[0;32mreturn\u001b[0m \u001b[0mobject\u001b[0m\u001b[0;34m.\u001b[0m\u001b[0m__getattribute__\u001b[0m\u001b[0;34m(\u001b[0m\u001b[0mself\u001b[0m\u001b[0;34m,\u001b[0m \u001b[0mname\u001b[0m\u001b[0;34m)\u001b[0m\u001b[0;34m\u001b[0m\u001b[0m\n\u001b[0m\u001b[1;32m   3082\u001b[0m \u001b[0;34m\u001b[0m\u001b[0m\n\u001b[1;32m   3083\u001b[0m     \u001b[0;32mdef\u001b[0m \u001b[0m__setattr__\u001b[0m\u001b[0;34m(\u001b[0m\u001b[0mself\u001b[0m\u001b[0;34m,\u001b[0m \u001b[0mname\u001b[0m\u001b[0;34m,\u001b[0m \u001b[0mvalue\u001b[0m\u001b[0;34m)\u001b[0m\u001b[0;34m:\u001b[0m\u001b[0;34m\u001b[0m\u001b[0m\n",
      "\u001b[0;31mAttributeError\u001b[0m: 'DataFrame' object has no attribute 'sort'"
     ]
    }
   ],
   "source": []
  },
  {
   "cell_type": "code",
   "execution_count": null,
   "metadata": {
    "collapsed": true
   },
   "outputs": [],
   "source": []
  }
 ],
 "metadata": {
  "kernelspec": {
   "display_name": "Python 3",
   "language": "python",
   "name": "python3"
  },
  "language_info": {
   "codemirror_mode": {
    "name": "ipython",
    "version": 3
   },
   "file_extension": ".py",
   "mimetype": "text/x-python",
   "name": "python",
   "nbconvert_exporter": "python",
   "pygments_lexer": "ipython3",
   "version": "3.6.0"
  }
 },
 "nbformat": 4,
 "nbformat_minor": 2
}
